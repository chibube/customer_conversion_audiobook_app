{
 "cells": [
  {
   "cell_type": "code",
   "execution_count": 1,
   "id": "3467d68b",
   "metadata": {},
   "outputs": [],
   "source": [
    "import numpy as np\n",
    "from sklearn import preprocessing\n",
    "import pandas as pd\n",
    "\n",
    "\n",
    "raw_csv_data = np.loadtxt('Audiobooks_data.csv', delimiter=',')\n",
    "\n",
    "unscaled_inputs_all = raw_csv_data[:, 1:-1]\n",
    "targets_all = raw_csv_data[:, -1]"
   ]
  },
  {
   "cell_type": "markdown",
   "id": "1236b327",
   "metadata": {},
   "source": [
    "### Descriptive Analysis"
   ]
  },
  {
   "cell_type": "code",
   "execution_count": null,
   "id": "64d3f350",
   "metadata": {},
   "outputs": [],
   "source": []
  },
  {
   "cell_type": "markdown",
   "id": "14092dd9",
   "metadata": {},
   "source": [
    "### Exploratory Analysis"
   ]
  },
  {
   "cell_type": "code",
   "execution_count": null,
   "id": "4fa78c45",
   "metadata": {},
   "outputs": [],
   "source": []
  },
  {
   "cell_type": "markdown",
   "id": "55ad9ad2",
   "metadata": {},
   "source": [
    "### Balance the dataset"
   ]
  },
  {
   "cell_type": "code",
   "execution_count": 27,
   "id": "08e6fc55",
   "metadata": {},
   "outputs": [],
   "source": [
    "#balancing the number of converted users to non converted users in our dataset\n",
    "'''\n",
    "1. sum all the target values\n",
    "2. initialize a variable that will be used in the for loop to check when the data is balanced\n",
    "3. initialize a list for saving the indices of the excess rows\n",
    "For loop\n",
    "1. for each item in the range of length of rows of the target, if the value is 0 add 1 to our check variable\n",
    "2. if our check variable is equal to sum of total variables  \n",
    "'''\n",
    "targets_sum = np.sum(targets_all)\n",
    "target_count = 0\n",
    "rows_to_remove = []\n",
    "\n",
    "for i in range(len(targets_all)):\n",
    "    if targets_all[i] == 0:\n",
    "        target_count += 1\n",
    "        if target_count >= targets_sum:\n",
    "            rows_to_remove.append(i)\n",
    "        "
   ]
  },
  {
   "cell_type": "code",
   "execution_count": 32,
   "id": "3d8906c4",
   "metadata": {},
   "outputs": [],
   "source": [
    "#delete excess rows\n",
    "unscaled_inputs_equal_priors = np.delete(unscaled_inputs_all, rows_to_remove, axis=0)\n",
    "target_equal_priors = np.delete(targets_all, rows_to_remove, axis=0)"
   ]
  },
  {
   "cell_type": "code",
   "execution_count": 33,
   "id": "b8be1147",
   "metadata": {},
   "outputs": [
    {
     "data": {
      "text/plain": [
       "4473"
      ]
     },
     "execution_count": 33,
     "metadata": {},
     "output_type": "execute_result"
    }
   ],
   "source": [
    "len(unscaled_inputs_equal_priors)"
   ]
  },
  {
   "cell_type": "markdown",
   "id": "f70851a7",
   "metadata": {},
   "source": [
    "### Standardize the inputs"
   ]
  },
  {
   "cell_type": "code",
   "execution_count": 36,
   "id": "3266cfca",
   "metadata": {},
   "outputs": [],
   "source": [
    "#scaling inputs using sklearn preprocessing\n",
    "scaled_input_data = preprocessing.scale(unscaled_inputs_equal_priors)"
   ]
  },
  {
   "cell_type": "code",
   "execution_count": 37,
   "id": "827c1576",
   "metadata": {},
   "outputs": [
    {
     "data": {
      "text/plain": [
       "array([[ 0.21083478, -0.18877462,  1.9779625 , ...,  4.80899578,\n",
       "        11.83696989,  0.09396727],\n",
       "       [ 1.27932186,  0.41652207, -0.39092543, ..., -0.41571774,\n",
       "        -0.20185829, -0.80270602],\n",
       "       [ 1.27932186,  0.41652207, -0.39092543, ..., -0.41571774,\n",
       "        -0.20185829,  2.97891612],\n",
       "       ...,\n",
       "       [ 1.27932186,  0.41652207, -0.39092543, ..., -0.41571774,\n",
       "        -0.20185829, -0.74422733],\n",
       "       [ 0.31768349,  1.7481748 ,  0.04666082, ..., -0.41571774,\n",
       "        -0.20185829, -0.80270602],\n",
       "       [ 0.31768349,  1.7481748 , -0.39092543, ..., -0.41571774,\n",
       "        -0.20185829, -0.80270602]])"
      ]
     },
     "execution_count": 37,
     "metadata": {},
     "output_type": "execute_result"
    }
   ],
   "source": [
    "scaled_input_data"
   ]
  },
  {
   "cell_type": "markdown",
   "id": "c14dc06d",
   "metadata": {},
   "source": [
    "### Shuffle the data"
   ]
  },
  {
   "cell_type": "code",
   "execution_count": 46,
   "id": "7c748c48",
   "metadata": {},
   "outputs": [],
   "source": [
    "#shuffle the inputs \n",
    "shuffled_indices = np.arange(scaled_input_data.shape[0])\n",
    "np.random.shuffle(shuffled_indices)\n",
    "\n",
    "shuffled_inputs = scaled_input_data[shuffled_indices]\n",
    "shuffled_targets = target_equal_priors[shuffled_indices]"
   ]
  },
  {
   "cell_type": "markdown",
   "id": "c30aa153",
   "metadata": {},
   "source": [
    "### Split the dataset into train, validation, and test"
   ]
  },
  {
   "cell_type": "code",
   "execution_count": 47,
   "id": "27cb7e5d",
   "metadata": {},
   "outputs": [],
   "source": [
    "samples_count = shuffled_inputs.shape[0]\n",
    "\n",
    "train_samples_count = int(0.8*samples_count)\n",
    "validation_samples_count = int(0.1*samples_count)\n",
    "test_samples_count = samples_count - train_samples_count - validation_samples_count\n",
    "\n",
    "train_inputs = shuffled_inputs[:train_samples_count]\n",
    "train_targets = shuffled_targets[:train_samples_count]\n",
    "\n",
    "validation_inputs = shuffled_inputs[train_samples_count:train_samples_count+validation_samples_count]\n",
    "validation_targets = shuffled_targets[train_samples_count:train_samples_count+validation_samples_count]\n",
    "\n",
    "test_inputs = shuffled_inputs[train_samples_count+validation_samples_count:]\n",
    "test_targets = shuffled_targets[train_samples_count+validation_samples_count:]"
   ]
  },
  {
   "cell_type": "code",
   "execution_count": 50,
   "id": "deb4fcdf",
   "metadata": {},
   "outputs": [
    {
     "name": "stdout",
     "output_type": "stream",
     "text": [
      "1798.0 0.5025153717160424\n",
      "230.0 0.5145413870246085\n",
      "209.0 0.46651785714285715\n"
     ]
    }
   ],
   "source": [
    "print(np.sum(train_targets), np.sum(train_targets)/train_samples_count)\n",
    "print(np.sum(validation_targets), np.sum(validation_targets)/validation_samples_count)\n",
    "print(np.sum(test_targets), np.sum(test_targets)/test_samples_count)"
   ]
  },
  {
   "cell_type": "markdown",
   "id": "f3653e58",
   "metadata": {},
   "source": [
    "### Save the Three datasets in .npz format"
   ]
  },
  {
   "cell_type": "code",
   "execution_count": 51,
   "id": "ef7ad4ba",
   "metadata": {},
   "outputs": [],
   "source": [
    "np.savez('Audiobooks_training_data', inputs=train_inputs, targets=train_targets)\n",
    "np.savez('Audiobooks_validation_data', inputs=validation_inputs, targets=validation_targets)\n",
    "np.savez('Audiobooks_test_data', inputs=test_inputs, targets=test_targets)"
   ]
  },
  {
   "cell_type": "code",
   "execution_count": null,
   "id": "f2818843",
   "metadata": {},
   "outputs": [],
   "source": []
  }
 ],
 "metadata": {
  "kernelspec": {
   "display_name": "Python 3",
   "language": "python",
   "name": "python3"
  },
  "language_info": {
   "codemirror_mode": {
    "name": "ipython",
    "version": 3
   },
   "file_extension": ".py",
   "mimetype": "text/x-python",
   "name": "python",
   "nbconvert_exporter": "python",
   "pygments_lexer": "ipython3",
   "version": "3.8.5"
  }
 },
 "nbformat": 4,
 "nbformat_minor": 5
}
